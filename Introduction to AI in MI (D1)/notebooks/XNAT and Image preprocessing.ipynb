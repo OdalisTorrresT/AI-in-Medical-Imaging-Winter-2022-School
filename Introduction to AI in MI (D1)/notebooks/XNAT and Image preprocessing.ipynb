{
 "cells": [
  {
   "cell_type": "markdown",
   "id": "81e53f81",
   "metadata": {},
   "source": [
    "# Tutorial Day 1: Introduction to AI in medical imaging\n",
    "\n",
    "In this interactive session you will learn more about XNAT, how XNAT stores data, and how you can access and downlonad imaging data from an XNAT server. During this session we will mostly work with the central XNAT server (https://xnat.bmia.nl), but we provide future references for more advanced usecases (e.g. uploading data ot the project you have access to).\n",
    "\n",
    "XNAT offers REST API that allows its user to interact with an XNAT installation using scripts. Typically, you interact with a REST API by sending various HTTP requests: `GET` for getting data from the server, `POST` for sending any data to the server (including, for example, your login information), etc. However, this way of interaction is not optimal for research use cases. Because of that, we have built a Python wrapper for the XNAT REST API - xnatpy. If you would like to know more about how the library works you can open xnatpy [official documentation](https://xnat.readthedocs.io/en/latest/index.html).\n",
    "\n",
    "Here is how it can help you in your research work:"
   ]
  },
  {
   "cell_type": "code",
   "execution_count": null,
   "id": "cf42ee2c",
   "metadata": {},
   "outputs": [],
   "source": [
    "# Uncomment if using Google Colab\n",
    "# !pip install xnat\n",
    "# import os\n",
    "# os.mkdir(\"data\")"
   ]
  },
  {
   "cell_type": "code",
   "execution_count": null,
   "id": "bf879639",
   "metadata": {},
   "outputs": [],
   "source": [
    "# Necessary imports\n",
    "\n",
    "import xnat\n",
    "import os\n",
    "import pydicom\n",
    "import zipfile\n",
    "import matplotlib.pyplot as plt\n",
    "from skimage import filters"
   ]
  },
  {
   "cell_type": "markdown",
   "id": "f105455d",
   "metadata": {},
   "source": [
    "## Connecting to the XNAT server\n",
    "First, we connect to the server by using the `connect` function from the `xnat` package:"
   ]
  },
  {
   "cell_type": "code",
   "execution_count": null,
   "id": "5735b57d",
   "metadata": {},
   "outputs": [],
   "source": [
    "session = xnat.connect('https://xnat.bmia.nl')"
   ]
  },
  {
   "cell_type": "markdown",
   "id": "a41e1ed7",
   "metadata": {},
   "source": [
    "In general, `connect` function can take quite a few parameters (for example, your username), but since we are connecting to the public XNAT instance as a Guest account, we don't need to provide anything except for the server location. In order to terminate the session, use `session.disconnect()` function after you have finished your work.\n",
    "\n",
    "## Exploring the XNAT server\n",
    "\n",
    "As we mentioned in our supplementary material, XNAT has a hierarchical data model:\n",
    "- Projects\n",
    "- Subjects\n",
    "- Sessions (a specific visit to a scanner)\n",
    "- Scans (a specific type of scan during that visit)\n",
    "\n",
    "For each of the levels of the hierarchy, a corresponding xnatpy class exists. Let's start by looking at all the projects from the server that we have connected to:"
   ]
  },
  {
   "cell_type": "code",
   "execution_count": null,
   "id": "ea842066",
   "metadata": {},
   "outputs": [],
   "source": [
    "session.projects"
   ]
  },
  {
   "cell_type": "markdown",
   "id": "3d012f61",
   "metadata": {},
   "source": [
    "As you can see, we receive quite a long list of projects. `xnatpy` uses a specific class, `XNATListing`, to represent the collections of objects in XNAT. As a user, you can treat it as a dictionary. For example, to get access to the **sandbox** project, simply use it as a key: "
   ]
  },
  {
   "cell_type": "code",
   "execution_count": null,
   "id": "7b68827a",
   "metadata": {},
   "outputs": [],
   "source": [
    "sandbox = session.projects['sandbox']\n",
    "sandbox"
   ]
  },
  {
   "cell_type": "markdown",
   "id": "11903208",
   "metadata": {},
   "source": [
    "If you would like to open the selected project (or any other XNAT object, really) in the browser again, or need a URL for your script, you can use `external_uri` method:"
   ]
  },
  {
   "cell_type": "code",
   "execution_count": null,
   "id": "94ca2a57",
   "metadata": {},
   "outputs": [],
   "source": [
    "sandbox.external_uri()"
   ]
  },
  {
   "cell_type": "markdown",
   "id": "a0b9864d",
   "metadata": {},
   "source": [
    "It is very common to do some processing for all the subjects in a particular XNAT project (e.g., calculating brain volume). Since `subjects` is also an `XNATListing` you can do it in the following way:"
   ]
  },
  {
   "cell_type": "code",
   "execution_count": null,
   "id": "b7b842b9",
   "metadata": {},
   "outputs": [],
   "source": [
    "for subj in sandbox.subjects.values():\n",
    "    print(subj.label)"
   ]
  },
  {
   "cell_type": "markdown",
   "id": "157c10aa",
   "metadata": {},
   "source": [
    "Additionally, each subject can have custom (not defined by XNAT) variables assigned to itself. They can be accessed via `fields` attribute for each type of objects that can have one: "
   ]
  },
  {
   "cell_type": "code",
   "execution_count": null,
   "id": "69de1320",
   "metadata": {},
   "outputs": [],
   "source": [
    "subject = sandbox.subjects[\"ANONYMIZ\"]\n",
    "subject.fields"
   ]
  },
  {
   "cell_type": "markdown",
   "id": "cbe5ed12",
   "metadata": {},
   "source": [
    "## Exercise 1\n",
    "Using the information you have learned above, write Python code that will print out labels and age of all subjects older than 85 from the **WORC** database (it can take some time during the first run):"
   ]
  },
  {
   "cell_type": "code",
   "execution_count": null,
   "id": "0d9f529a",
   "metadata": {},
   "outputs": [],
   "source": [
    "# Solution:"
   ]
  },
  {
   "cell_type": "markdown",
   "id": "0bd4ba1f",
   "metadata": {},
   "source": [
    "# Downloading data from XNAT\n",
    "A lot of times you are interested in doing processing locally. XNAT (and `xnatpy`) allows you to download the data associated with an XNAT object in the following way. Assume that we have selected a subject and would like to process one of the scans belonging to it. First, let's list all the experiments from the selected subject:"
   ]
  },
  {
   "cell_type": "code",
   "execution_count": null,
   "id": "3a4b4882",
   "metadata": {},
   "outputs": [],
   "source": [
    "subject.experiments"
   ]
  },
  {
   "cell_type": "markdown",
   "id": "69992e68",
   "metadata": {},
   "source": [
    "Now, let's choose one of the experiments (we suggest using `\"ANONYMIZ\"` experiment) and list all the scans belonging to it:"
   ]
  },
  {
   "cell_type": "code",
   "execution_count": null,
   "id": "da6d718f",
   "metadata": {},
   "outputs": [],
   "source": [
    "mri_session = subject.experiments[\"ANONYMIZ\"]\n",
    "mri_session.scans"
   ]
  },
  {
   "cell_type": "markdown",
   "id": "78b70b6f",
   "metadata": {},
   "source": [
    "Now, assuming that we are particularly interested in T1 data from this experiment, we can download it in the following way:"
   ]
  },
  {
   "cell_type": "code",
   "execution_count": null,
   "id": "1bcb394f",
   "metadata": {},
   "outputs": [],
   "source": [
    "mri_session.scans['T1'].download(os.path.join(\"data\", \"T1.zip\"))\n",
    "with zipfile.ZipFile(os.path.join(\"data\", \"T1.zip\"), \"r\") as zip_ref:\n",
    "        zip_ref.extractall(\"data\")"
   ]
  },
  {
   "cell_type": "markdown",
   "id": "f56cef71",
   "metadata": {},
   "source": [
    "Unzip the downloaded archive and let's explore/visualize its contents. When downloading the files `xnatpy` preserves the hierarchical nature of XNAT data model, so paths to the actual imaging data can be quite long. We load the contents of the DICOM file using `pydicom.dcmread` function:"
   ]
  },
  {
   "cell_type": "code",
   "execution_count": null,
   "id": "de21c274",
   "metadata": {},
   "outputs": [],
   "source": [
    "dataset = pydicom.dcmread(os.path.join(\"data\", \"ANONYMIZ/scans/6-T1/resources/DICOM/files/1.3.6.1.4.1.40744.99.141253643552231291697372180164147575979-6-43-5opby1.dcm\"))"
   ]
  },
  {
   "cell_type": "markdown",
   "id": "0b74c42d",
   "metadata": {},
   "source": [
    "DICOM files consist of a header and image data bundled together. Information in DICOM file header is stored as a collection of standardized tags. We can list all the information stored in the DICOM dataset by printing it:"
   ]
  },
  {
   "cell_type": "code",
   "execution_count": null,
   "id": "de01423e",
   "metadata": {},
   "outputs": [],
   "source": [
    "dataset"
   ]
  },
  {
   "cell_type": "markdown",
   "id": "fe8c6046",
   "metadata": {},
   "source": [
    "Since DICOM files contain quite a lot of information, they are usually go through the process of deidentification  - removing or replacing personal health information, such as, for example, patient name. Most of the time you don't need to access all of the information in the scan, but outputting some summary is often useful:"
   ]
  },
  {
   "cell_type": "code",
   "execution_count": null,
   "id": "5fc13d54",
   "metadata": {},
   "outputs": [],
   "source": [
    "print(f\"Patient ID.......: {dataset.PatientID}\")\n",
    "print(f\"Study description: {dataset.StudyDescription}\")\n",
    "print(f\"Modality.........: {dataset.Modality}\")\n",
    "print(f\"Study date.......: {dataset.StudyDate}\")\n",
    "print(f\"Image size.......: {dataset.Rows} x {dataset.Columns}\")\n",
    "print(f\"Pixel spacing....: {dataset.PixelSpacing}\")"
   ]
  },
  {
   "cell_type": "markdown",
   "id": "e9aa29fb",
   "metadata": {},
   "source": [
    "Now, let's visualize the DICOM slice that we have loaded:"
   ]
  },
  {
   "cell_type": "code",
   "execution_count": null,
   "id": "744371f8",
   "metadata": {},
   "outputs": [],
   "source": [
    "plt.imshow(dataset.pixel_array, cmap=plt.cm.gray);"
   ]
  },
  {
   "cell_type": "markdown",
   "id": "312c8618",
   "metadata": {},
   "source": [
    "# Exercise 2\n",
    "\n",
    "Download FLAIR scan from this subject, plot any slice present in the dataset and print out its summary. Try to see what is different between these two scans (Hint: look at the [description](https://en.wikipedia.org/wiki/Fluid-attenuated_inversion_recovery) of the FLAIR technique)."
   ]
  },
  {
   "cell_type": "code",
   "execution_count": null,
   "id": "81725626",
   "metadata": {},
   "outputs": [],
   "source": [
    "# Solution"
   ]
  },
  {
   "cell_type": "markdown",
   "id": "a278f0db",
   "metadata": {},
   "source": [
    "## Applying image preprocessing\n",
    "\n",
    "Now, we are going to apply Gaussian filter to the selected image slice. It is typically used in image processing pipelines to reduce noise and enhance details on an image at the various scales. It is also commonly used before applying edge detection methods, since they are sensitive to noise in an image. For more information about the filter you can have a look at its Wikipedia [page](https://en.wikipedia.org/wiki/Gaussian_blur). We will be using `filters.gaussian` implementation of this algorithm from scikit-image library."
   ]
  },
  {
   "cell_type": "code",
   "execution_count": null,
   "id": "ff51ffd8",
   "metadata": {},
   "outputs": [],
   "source": [
    "# Reload the original image from the file\n",
    "dataset = pydicom.dcmread(os.path.join(\"data\", \"ANONYMIZ/scans/6-T1/resources/DICOM/files/1.3.6.1.4.1.40744.99.141253643552231291697372180164147575979-6-43-5opby1.dcm\"))\n",
    "original_image = dataset.pixel_array\n",
    "# Plot the slice\n",
    "plt.imshow(original_image, cmap=plt.cm.gray);"
   ]
  },
  {
   "cell_type": "markdown",
   "id": "a653259e",
   "metadata": {},
   "source": [
    "Now, let's try to apply an edge detection algorithm to the image. We will use edge detection algorithm based on [Sobel filter](https://en.wikipedia.org/wiki/Sobel_operator)."
   ]
  },
  {
   "cell_type": "code",
   "execution_count": null,
   "id": "cf1b25ea",
   "metadata": {},
   "outputs": [],
   "source": [
    "edges_original = filters.sobel(original_image)\n",
    "plt.imshow(edges_original, cmap=plt.cm.gray);"
   ]
  },
  {
   "cell_type": "markdown",
   "id": "4ae2a726",
   "metadata": {},
   "source": [
    "As you can see, the algorithm detects quite a lot of edges throughout the whole image. Now we will apply Gaussian smoothing first and see how it affects the edge detection algorithm output."
   ]
  },
  {
   "cell_type": "code",
   "execution_count": null,
   "id": "b2a5974e",
   "metadata": {},
   "outputs": [],
   "source": [
    "filtered_image = filters.gaussian(original_image, sigma=3.0)\n",
    "plt.imshow(filtered_image, cmap=plt.cm.gray);"
   ]
  },
  {
   "cell_type": "code",
   "execution_count": null,
   "id": "31a93b8e",
   "metadata": {},
   "outputs": [],
   "source": [
    "edges_filtered = filters.sobel(filtered_image)\n",
    "plt.imshow(edges_filtered, cmap=plt.cm.gray);"
   ]
  },
  {
   "cell_type": "code",
   "execution_count": null,
   "id": "5b7529c7",
   "metadata": {},
   "outputs": [],
   "source": [
    "f, axes = plt.subplots(1,2, figsize=(15, 15))\n",
    "axes[0].imshow(edges_original, cmap=plt.cm.gray)\n",
    "axes[0].title.set_text(\"Edges from the original image\")\n",
    "axes[1].imshow(edges_filtered, cmap=plt.cm.gray)\n",
    "axes[1].title.set_text(\"Edges after filtering the original image\")"
   ]
  },
  {
   "cell_type": "markdown",
   "id": "3268ca68",
   "metadata": {},
   "source": [
    "As you can see, after applying Gaussian smoothing, during the edge detection the algorithm focuses on higher-level features of the image. **Exercise 3**: Try changing values of Sigma parameter to see how it affects the outcome of edge detection algorithm."
   ]
  },
  {
   "cell_type": "code",
   "execution_count": null,
   "id": "4466cb3a",
   "metadata": {},
   "outputs": [],
   "source": [
    "# Close the session\n",
    "session.disconnect()"
   ]
  },
  {
   "cell_type": "markdown",
   "id": "b4bdfaf6",
   "metadata": {},
   "source": [
    "## (Optional) Importing data into XNAT\n",
    "\n",
    "It is also possible to add data to the server using XNAT REST API. `xnatpy` wraps it in the `import_` method. You can use it in the following way:"
   ]
  },
  {
   "cell_type": "code",
   "execution_count": null,
   "id": "1f92ce90",
   "metadata": {},
   "outputs": [],
   "source": [
    "# session.services.import_('/path/to/archive.zip', project='project_name', subject='subject_name')"
   ]
  },
  {
   "cell_type": "markdown",
   "id": "23764d2d",
   "metadata": {},
   "source": [
    "Uploading directly to the archive is often undesirable, as you might want to inspect data before finalizing archival. XNAT has a specific intermediate storage - prearchive - giving a user a chance to review the incoming data. You can upload data to prearchive by specifying it as destination:"
   ]
  },
  {
   "cell_type": "code",
   "execution_count": null,
   "id": "fef72c57",
   "metadata": {},
   "outputs": [],
   "source": [
    "# session.services.import_('/path/to/archive.zip', project='project_name', subject='subject_name',  destination='/prearchive')"
   ]
  },
  {
   "cell_type": "markdown",
   "id": "0618bb3c",
   "metadata": {},
   "source": [
    "**NB**: run these cells only after connecting to your local XNAT installation and change the values to something that makes sense (correct paths, project and subject names, etc.)"
   ]
  }
 ],
 "metadata": {
  "kernelspec": {
   "display_name": "Python 3 (ipykernel)",
   "language": "python",
   "name": "python3"
  },
  "language_info": {
   "codemirror_mode": {
    "name": "ipython",
    "version": 3
   },
   "file_extension": ".py",
   "mimetype": "text/x-python",
   "name": "python",
   "nbconvert_exporter": "python",
   "pygments_lexer": "ipython3",
   "version": "3.8.10"
  }
 },
 "nbformat": 4,
 "nbformat_minor": 5
}
